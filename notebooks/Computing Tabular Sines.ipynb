{
 "cells": [
  {
   "cell_type": "code",
   "execution_count": 7,
   "id": "instructional-expression",
   "metadata": {},
   "outputs": [
    {
     "name": "stdout",
     "output_type": "stream",
     "text": [
      "Collecting git+https://github.com/kmadathil/kerala_math.git\n",
      "  Cloning https://github.com/kmadathil/kerala_math.git to /tmp/pip-req-build-6wf60kpv\n",
      "\u001b[33mWARNING: You are using pip version 21.0.1; however, version 21.1.2 is available.\n",
      "You should consider upgrading via the '/home/karthick/anaconda3/bin/python -m pip install --upgrade pip' command.\u001b[0m\n"
     ]
    }
   ],
   "source": [
    "!pip install git+https://github.com/kmadathil/kerala_math.git"
   ]
  },
  {
   "cell_type": "markdown",
   "id": "blank-refrigerator",
   "metadata": {},
   "source": [
    "# Comparison of Methods to Compute पठितज्या\n",
    "\n",
    "We compare Aryabhata's jya table with the tables of the Kerala School and modern values"
   ]
  },
  {
   "cell_type": "code",
   "execution_count": 8,
   "id": "nominated-douglas",
   "metadata": {
    "scrolled": true
   },
   "outputs": [],
   "source": [
    "import numpy as np\n",
    "import pandas as pd\n",
    "from kerala_math.jyatable.aryabhata import pindajya as a_jya\n",
    "from kerala_math.jyatable.tantrasangraha import pindajya as t_jya\n",
    "from kerala_math.jyatable.laghuvivrti import pindajya as l_jya\n",
    "from kerala_math.jyatable import to_mst"
   ]
  },
  {
   "cell_type": "markdown",
   "id": "alternate-greeting",
   "metadata": {},
   "source": [
    "### Assembly\n",
    "\n",
    "First, we load all the tabular jya approximations from our library. Then, we setup a dataframe to hold all the values and assemble them into it."
   ]
  },
  {
   "cell_type": "code",
   "execution_count": 9,
   "id": "normal-improvement",
   "metadata": {},
   "outputs": [],
   "source": [
    "# Get all tabular jyas\n",
    "aryabhata_jya = [a_jya(i) for i in range(24)]\n",
    "tantrasangraha_jya = [\",\".join([str(x) for x in to_mst(t_jya(i))]) for i in range(24)]\n",
    "laghuvivrti_jya = [\",\".join([str(x) for x in to_mst(l_jya(i))])  for i in range(24)]"
   ]
  },
  {
   "cell_type": "code",
   "execution_count": 10,
   "id": "thirty-headset",
   "metadata": {},
   "outputs": [],
   "source": [
    "comparison_table = pd.DataFrame([], index=range(1,25), columns=[\"Aryabhata\", \"Tantrasangraha\", \"Laghuvivrti\", \"Modern\"])"
   ]
  },
  {
   "cell_type": "code",
   "execution_count": 11,
   "id": "stuffed-globe",
   "metadata": {},
   "outputs": [],
   "source": [
    "comparison_table[\"Aryabhata\"] = aryabhata_jya\n",
    "comparison_table[\"Tantrasangraha\"] = tantrasangraha_jya\n",
    "comparison_table[\"Laghuvivrti\"] = laghuvivrti_jya"
   ]
  },
  {
   "cell_type": "markdown",
   "id": "imperial-potential",
   "metadata": {},
   "source": [
    "Modern sine for the 24 tabular point - translated to Rsines for the standard circle of radius 21600\n"
   ]
  },
  {
   "cell_type": "code",
   "execution_count": 12,
   "id": "worth-expert",
   "metadata": {},
   "outputs": [],
   "source": [
    "comparison_table[\"Modern\"]  = [\",\".join([str(i) for i in to_mst(x)]) for x in (np.sin(np.array(range(1,25))*np.pi/48) * 21600/(2*np.pi))]"
   ]
  },
  {
   "cell_type": "markdown",
   "id": "stuffed-avatar",
   "metadata": {},
   "source": [
    "### Display\n",
    "\n",
    "Now, view the comparsion"
   ]
  },
  {
   "cell_type": "code",
   "execution_count": 13,
   "id": "convertible-knowing",
   "metadata": {
    "scrolled": true
   },
   "outputs": [
    {
     "data": {
      "text/html": [
       "<div>\n",
       "<style scoped>\n",
       "    .dataframe tbody tr th:only-of-type {\n",
       "        vertical-align: middle;\n",
       "    }\n",
       "\n",
       "    .dataframe tbody tr th {\n",
       "        vertical-align: top;\n",
       "    }\n",
       "\n",
       "    .dataframe thead th {\n",
       "        text-align: right;\n",
       "    }\n",
       "</style>\n",
       "<table border=\"1\" class=\"dataframe\">\n",
       "  <thead>\n",
       "    <tr style=\"text-align: right;\">\n",
       "      <th></th>\n",
       "      <th>Aryabhata</th>\n",
       "      <th>Tantrasangraha</th>\n",
       "      <th>Laghuvivrti</th>\n",
       "      <th>Modern</th>\n",
       "    </tr>\n",
       "  </thead>\n",
       "  <tbody>\n",
       "    <tr>\n",
       "      <th>1</th>\n",
       "      <td>225</td>\n",
       "      <td>224,50,0,0</td>\n",
       "      <td>224,50,22,0</td>\n",
       "      <td>224,50,21,49</td>\n",
       "    </tr>\n",
       "    <tr>\n",
       "      <th>2</th>\n",
       "      <td>449</td>\n",
       "      <td>448,42,13,37</td>\n",
       "      <td>448,42,58,1</td>\n",
       "      <td>448,42,57,35</td>\n",
       "    </tr>\n",
       "    <tr>\n",
       "      <th>3</th>\n",
       "      <td>671</td>\n",
       "      <td>670,39,9,19</td>\n",
       "      <td>670,40,16,55</td>\n",
       "      <td>670,40,16,2</td>\n",
       "    </tr>\n",
       "    <tr>\n",
       "      <th>4</th>\n",
       "      <td>890</td>\n",
       "      <td>889,43,45,11</td>\n",
       "      <td>889,45,17,10</td>\n",
       "      <td>889,45,15,36</td>\n",
       "    </tr>\n",
       "    <tr>\n",
       "      <th>5</th>\n",
       "      <td>1105</td>\n",
       "      <td>1104,59,43,37</td>\n",
       "      <td>1105,1,41,33</td>\n",
       "      <td>1105,1,38,56</td>\n",
       "    </tr>\n",
       "    <tr>\n",
       "      <th>6</th>\n",
       "      <td>1315</td>\n",
       "      <td>1315,31,45,42</td>\n",
       "      <td>1315,34,11,31</td>\n",
       "      <td>1315,34,7,26</td>\n",
       "    </tr>\n",
       "    <tr>\n",
       "      <th>7</th>\n",
       "      <td>1520</td>\n",
       "      <td>1520,25,45,33</td>\n",
       "      <td>1520,28,41,30</td>\n",
       "      <td>1520,28,35,27</td>\n",
       "    </tr>\n",
       "    <tr>\n",
       "      <th>8</th>\n",
       "      <td>1719</td>\n",
       "      <td>1718,49,4,4</td>\n",
       "      <td>1718,52,32,46</td>\n",
       "      <td>1718,52,24,11</td>\n",
       "    </tr>\n",
       "    <tr>\n",
       "      <th>9</th>\n",
       "      <td>1910</td>\n",
       "      <td>1909,50,42,38</td>\n",
       "      <td>1909,54,46,57</td>\n",
       "      <td>1909,54,35,11</td>\n",
       "    </tr>\n",
       "    <tr>\n",
       "      <th>10</th>\n",
       "      <td>2093</td>\n",
       "      <td>2092,41,36,2</td>\n",
       "      <td>2092,46,19,8</td>\n",
       "      <td>2092,46,3,29</td>\n",
       "    </tr>\n",
       "    <tr>\n",
       "      <th>11</th>\n",
       "      <td>2267</td>\n",
       "      <td>2266,34,45,13</td>\n",
       "      <td>2266,40,10,30</td>\n",
       "      <td>2266,39,50,12</td>\n",
       "    </tr>\n",
       "    <tr>\n",
       "      <th>12</th>\n",
       "      <td>2431</td>\n",
       "      <td>2430,45,29,17</td>\n",
       "      <td>2430,51,40,20</td>\n",
       "      <td>2430,51,14,35</td>\n",
       "    </tr>\n",
       "    <tr>\n",
       "      <th>13</th>\n",
       "      <td>2585</td>\n",
       "      <td>2584,31,36,59</td>\n",
       "      <td>2584,38,37,34</td>\n",
       "      <td>2584,38,5,31</td>\n",
       "    </tr>\n",
       "    <tr>\n",
       "      <th>14</th>\n",
       "      <td>2728</td>\n",
       "      <td>2727,13,37,36</td>\n",
       "      <td>2727,21,31,36</td>\n",
       "      <td>2727,20,52,22</td>\n",
       "    </tr>\n",
       "    <tr>\n",
       "      <th>15</th>\n",
       "      <td>2859</td>\n",
       "      <td>2858,14,51,2</td>\n",
       "      <td>2858,23,42,25</td>\n",
       "      <td>2858,22,55,6</td>\n",
       "    </tr>\n",
       "    <tr>\n",
       "      <th>16</th>\n",
       "      <td>2978</td>\n",
       "      <td>2977,1,37,15</td>\n",
       "      <td>2977,11,30,3</td>\n",
       "      <td>2977,10,33,43</td>\n",
       "    </tr>\n",
       "    <tr>\n",
       "      <th>17</th>\n",
       "      <td>3084</td>\n",
       "      <td>3083,3,25,0</td>\n",
       "      <td>3083,14,23,12</td>\n",
       "      <td>3083,13,16,56</td>\n",
       "    </tr>\n",
       "    <tr>\n",
       "      <th>18</th>\n",
       "      <td>3177</td>\n",
       "      <td>3175,52,59,31</td>\n",
       "      <td>3176,5,7,7</td>\n",
       "      <td>3176,3,49,57</td>\n",
       "    </tr>\n",
       "    <tr>\n",
       "      <th>19</th>\n",
       "      <td>3256</td>\n",
       "      <td>3255,6,29,41</td>\n",
       "      <td>3255,19,50,32</td>\n",
       "      <td>3255,18,21,34</td>\n",
       "    </tr>\n",
       "    <tr>\n",
       "      <th>20</th>\n",
       "      <td>3321</td>\n",
       "      <td>3320,23,34,1</td>\n",
       "      <td>3320,38,11,52</td>\n",
       "      <td>3320,36,30,12</td>\n",
       "    </tr>\n",
       "    <tr>\n",
       "      <th>21</th>\n",
       "      <td>3372</td>\n",
       "      <td>3371,27,26,0</td>\n",
       "      <td>3371,43,24,23</td>\n",
       "      <td>3371,41,29,8</td>\n",
       "    </tr>\n",
       "    <tr>\n",
       "      <th>22</th>\n",
       "      <td>3409</td>\n",
       "      <td>3408,4,58,21</td>\n",
       "      <td>3408,22,20,35</td>\n",
       "      <td>3408,20,10,56</td>\n",
       "    </tr>\n",
       "    <tr>\n",
       "      <th>23</th>\n",
       "      <td>3431</td>\n",
       "      <td>3430,6,46,22</td>\n",
       "      <td>3430,25,35,30</td>\n",
       "      <td>3430,23,10,38</td>\n",
       "    </tr>\n",
       "    <tr>\n",
       "      <th>24</th>\n",
       "      <td>3438</td>\n",
       "      <td>3437,27,10,26</td>\n",
       "      <td>3437,47,29,10</td>\n",
       "      <td>3437,44,48,22</td>\n",
       "    </tr>\n",
       "  </tbody>\n",
       "</table>\n",
       "</div>"
      ],
      "text/plain": [
       "    Aryabhata Tantrasangraha    Laghuvivrti         Modern\n",
       "1         225     224,50,0,0    224,50,22,0   224,50,21,49\n",
       "2         449   448,42,13,37    448,42,58,1   448,42,57,35\n",
       "3         671    670,39,9,19   670,40,16,55    670,40,16,2\n",
       "4         890   889,43,45,11   889,45,17,10   889,45,15,36\n",
       "5        1105  1104,59,43,37   1105,1,41,33   1105,1,38,56\n",
       "6        1315  1315,31,45,42  1315,34,11,31   1315,34,7,26\n",
       "7        1520  1520,25,45,33  1520,28,41,30  1520,28,35,27\n",
       "8        1719    1718,49,4,4  1718,52,32,46  1718,52,24,11\n",
       "9        1910  1909,50,42,38  1909,54,46,57  1909,54,35,11\n",
       "10       2093   2092,41,36,2   2092,46,19,8   2092,46,3,29\n",
       "11       2267  2266,34,45,13  2266,40,10,30  2266,39,50,12\n",
       "12       2431  2430,45,29,17  2430,51,40,20  2430,51,14,35\n",
       "13       2585  2584,31,36,59  2584,38,37,34   2584,38,5,31\n",
       "14       2728  2727,13,37,36  2727,21,31,36  2727,20,52,22\n",
       "15       2859   2858,14,51,2  2858,23,42,25   2858,22,55,6\n",
       "16       2978   2977,1,37,15   2977,11,30,3  2977,10,33,43\n",
       "17       3084    3083,3,25,0  3083,14,23,12  3083,13,16,56\n",
       "18       3177  3175,52,59,31     3176,5,7,7   3176,3,49,57\n",
       "19       3256   3255,6,29,41  3255,19,50,32  3255,18,21,34\n",
       "20       3321   3320,23,34,1  3320,38,11,52  3320,36,30,12\n",
       "21       3372   3371,27,26,0  3371,43,24,23   3371,41,29,8\n",
       "22       3409   3408,4,58,21  3408,22,20,35  3408,20,10,56\n",
       "23       3431   3430,6,46,22  3430,25,35,30  3430,23,10,38\n",
       "24       3438  3437,27,10,26  3437,47,29,10  3437,44,48,22"
      ]
     },
     "execution_count": 13,
     "metadata": {},
     "output_type": "execute_result"
    }
   ],
   "source": [
    "comparison_table"
   ]
  },
  {
   "cell_type": "code",
   "execution_count": null,
   "id": "consistent-narrative",
   "metadata": {},
   "outputs": [],
   "source": []
  }
 ],
 "metadata": {
  "kernelspec": {
   "display_name": "Python 3",
   "language": "python",
   "name": "python3"
  },
  "language_info": {
   "codemirror_mode": {
    "name": "ipython",
    "version": 3
   },
   "file_extension": ".py",
   "mimetype": "text/x-python",
   "name": "python",
   "nbconvert_exporter": "python",
   "pygments_lexer": "ipython3",
   "version": "3.7.8"
  }
 },
 "nbformat": 4,
 "nbformat_minor": 5
}
