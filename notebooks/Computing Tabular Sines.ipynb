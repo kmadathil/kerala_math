{
 "cells": [
  {
   "cell_type": "code",
   "execution_count": null,
   "id": "quick-spotlight",
   "metadata": {},
   "outputs": [],
   "source": [
    "!pip install git+https://github.com/kmadathil/kerala_math.git"
   ]
  },
  {
   "cell_type": "markdown",
   "id": "informal-start",
   "metadata": {},
   "source": [
    "# Comparison of Methods to Compute पठितज्या\n",
    "\n",
    "For a backgrounder on Indian Trigonometry, the idea of jya and Aryabhata's table, see [this article](https://blog.madathil.org/2021/05/04/stringing-the-bow-a-backgrounder-on-indian-trigonometry-and-the-concept-of-jya/)\n",
    "\n",
    "For the improved tables of Nilakantha Somayaji and Sankaravarman, see [this article](https://blog.madathil.org/2021/06/08/improving-the-jya-table/)\n",
    "\n",
    "For the Madhava jya table, see [this article](https://blog.madathil.org/2021/06/16/a-better-bowstring-the-madhava-jya-series/)\n",
    "\n",
    "For the tattajjya recurrence (without the standard radius) see [this article](https://blog.madathil.org/2021/10/12/finding-jya-recurrence-without-the-radius-part-2/)\n",
    "\n",
    "In this notebook, we compare Aryabhata's jya table with the tables of the Kerala School and modern values to see exactly how accurate they are"
   ]
  },
  {
   "cell_type": "code",
   "execution_count": null,
   "id": "chinese-ratio",
   "metadata": {
    "scrolled": false
   },
   "outputs": [],
   "source": [
    "import numpy as np\n",
    "import pandas as pd\n",
    "from kerala_math.jyatable.aryabhata import pindajya as a_jya\n",
    "from kerala_math.jyatable.tantrasangraha import pindajya as t_jya\n",
    "from kerala_math.jyatable.laghuvivrti import pindajya as l_jya\n",
    "from kerala_math.jyatable.madhava import pindajya as m_jya\n",
    "from kerala_math.jyatable.tattajjya import pindajya as tt_jya\n",
    "from kerala_math.jyatable import MST"
   ]
  },
  {
   "cell_type": "markdown",
   "id": "transsexual-denmark",
   "metadata": {},
   "source": [
    "### Assembly\n",
    "\n",
    "First, we load all the tabular jya approximations from our library. Then, we setup a dataframe to hold all the values and assemble them into it."
   ]
  },
  {
   "cell_type": "code",
   "execution_count": null,
   "id": "wanted-socket",
   "metadata": {
    "scrolled": true
   },
   "outputs": [],
   "source": [
    "# Get all tabular jyas\n",
    "aryabhata_jya = [a_jya(i) for i in range(24)]\n",
    "tantrasangraha_jya = [MST(t_jya(i)) for i in range(24)]\n",
    "laghuvivrti_jya = [MST(l_jya(i))  for i in range(24)]\n",
    "madhava_jya = [m_jya(i)  for i in range(24)]\n",
    "tattat_jya = [tt_jya(i)  for i in range(24)]"
   ]
  },
  {
   "cell_type": "code",
   "execution_count": null,
   "id": "consecutive-ghana",
   "metadata": {},
   "outputs": [],
   "source": [
    "comparison_table = pd.DataFrame([], index=range(1,25), columns=[\"Aryabhata\", \"Tantrasangraha\", \"Laghuvivrti\", \"Tattajjya\", \"Madhava\", \"Modern\"])"
   ]
  },
  {
   "cell_type": "code",
   "execution_count": null,
   "id": "homeless-clark",
   "metadata": {},
   "outputs": [],
   "source": [
    "comparison_table[\"Aryabhata\"] = aryabhata_jya\n",
    "comparison_table[\"Tantrasangraha\"] = tantrasangraha_jya\n",
    "comparison_table[\"Laghuvivrti\"] = laghuvivrti_jya\n",
    "comparison_table[\"Madhava\"] = madhava_jya\n",
    "comparison_table[\"Tattajjya\"] = tattat_jya"
   ]
  },
  {
   "cell_type": "markdown",
   "id": "european-painting",
   "metadata": {},
   "source": [
    "Modern sine for the 24 tabular point - translated to Rsines for the standard circle of radius 21600\n"
   ]
  },
  {
   "cell_type": "code",
   "execution_count": null,
   "id": "shared-contract",
   "metadata": {},
   "outputs": [],
   "source": [
    "comparison_table[\"Modern\"]  = [MST(x) for x in (np.sin(np.array(range(1,25))*np.pi/48) * 21600/(2*np.pi))]"
   ]
  },
  {
   "cell_type": "markdown",
   "id": "sophisticated-break",
   "metadata": {},
   "source": [
    "### Display\n",
    "\n",
    "Now, view the comparsion. \n",
    "\n",
    "We can see that Aryabhata is accurate to the minute. Laghuvivrti to a few seconds, and Madhava to thirds compared to modern values. The tattajjya recurrence, seeded with two accurate values, is slightly better than laghuvivrti. "
   ]
  },
  {
   "cell_type": "code",
   "execution_count": null,
   "id": "bigger-vaccine",
   "metadata": {
    "scrolled": true
   },
   "outputs": [],
   "source": [
    "comparison_table"
   ]
  },
  {
   "cell_type": "markdown",
   "id": "functional-filling",
   "metadata": {},
   "source": [
    "## The Madhava Verse and Encoding\n",
    "श्रेष्ठं नाम वरिष्ठानां etc."
   ]
  },
  {
   "cell_type": "code",
   "execution_count": null,
   "id": "linear-romania",
   "metadata": {
    "scrolled": true
   },
   "outputs": [],
   "source": [
    "from kerala_math.jyatable.madhava import madhava_verse\n",
    "madhava_table = pd.DataFrame([], index=range(1,25), columns=[\"Verse\", \"Value\"])\n",
    "madhava_table[\"Verse\"] = madhava_verse\n",
    "madhava_table[\"Value\"] = madhava_jya\n",
    "madhava_table[\"Modern\"]  =  comparison_table[\"Modern\"]\n",
    "madhava_table"
   ]
  },
  {
   "cell_type": "code",
   "execution_count": null,
   "id": "hydraulic-capability",
   "metadata": {},
   "outputs": [],
   "source": []
  },
  {
   "cell_type": "code",
   "execution_count": null,
   "id": "described-scratch",
   "metadata": {},
   "outputs": [],
   "source": []
  }
 ],
 "metadata": {
  "kernelspec": {
   "display_name": "Python 3",
   "language": "python",
   "name": "python3"
  },
  "language_info": {
   "codemirror_mode": {
    "name": "ipython",
    "version": 3
   },
   "file_extension": ".py",
   "mimetype": "text/x-python",
   "name": "python",
   "nbconvert_exporter": "python",
   "pygments_lexer": "ipython3",
   "version": "3.7.8"
  }
 },
 "nbformat": 4,
 "nbformat_minor": 5
}
