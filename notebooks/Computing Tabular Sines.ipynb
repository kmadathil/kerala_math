{
 "cells": [
  {
   "cell_type": "code",
   "execution_count": null,
   "id": "quick-spotlight",
   "metadata": {},
   "outputs": [],
   "source": [
    "!pip install git+https://github.com/kmadathil/kerala_math.git"
   ]
  },
  {
   "cell_type": "markdown",
   "id": "informal-start",
   "metadata": {},
   "source": [
    "# Comparison of Methods to Compute पठितज्या\n",
    "\n",
    "For a backgrounder on Indian Trigonometry, the idea of jya and Aryabhata's table, see [this article](https://blog.madathil.org/2021/05/04/stringing-the-bow-a-backgrounder-on-indian-trigonometry-and-the-concept-of-jya/)\n",
    "\n",
    "For the improved tables of Nilakantha Somayaji and Sankaravarman, see [this article](https://blog.madathil.org/2021/06/08/improving-the-jya-table/)\n",
    "\n",
    "In this notebook, we compare Aryabhata's jya table with the tables of the Kerala School and modern values to see exactly how accurate they are"
   ]
  },
  {
   "cell_type": "code",
   "execution_count": null,
   "id": "chinese-ratio",
   "metadata": {
    "scrolled": true
   },
   "outputs": [],
   "source": [
    "import numpy as np\n",
    "import pandas as pd\n",
    "from kerala_math.jyatable.aryabhata import pindajya as a_jya\n",
    "from kerala_math.jyatable.tantrasangraha import pindajya as t_jya\n",
    "from kerala_math.jyatable.laghuvivrti import pindajya as l_jya\n",
    "from kerala_math.jyatable import to_mst"
   ]
  },
  {
   "cell_type": "markdown",
   "id": "transsexual-denmark",
   "metadata": {},
   "source": [
    "### Assembly\n",
    "\n",
    "First, we load all the tabular jya approximations from our library. Then, we setup a dataframe to hold all the values and assemble them into it."
   ]
  },
  {
   "cell_type": "code",
   "execution_count": null,
   "id": "wanted-socket",
   "metadata": {},
   "outputs": [],
   "source": [
    "# Get all tabular jyas\n",
    "aryabhata_jya = [a_jya(i) for i in range(24)]\n",
    "tantrasangraha_jya = [\",\".join([str(x) for x in to_mst(t_jya(i))]) for i in range(24)]\n",
    "laghuvivrti_jya = [\",\".join([str(x) for x in to_mst(l_jya(i))])  for i in range(24)]"
   ]
  },
  {
   "cell_type": "code",
   "execution_count": null,
   "id": "consecutive-ghana",
   "metadata": {},
   "outputs": [],
   "source": [
    "comparison_table = pd.DataFrame([], index=range(1,25), columns=[\"Aryabhata\", \"Tantrasangraha\", \"Laghuvivrti\", \"Modern\"])"
   ]
  },
  {
   "cell_type": "code",
   "execution_count": null,
   "id": "homeless-clark",
   "metadata": {},
   "outputs": [],
   "source": [
    "comparison_table[\"Aryabhata\"] = aryabhata_jya\n",
    "comparison_table[\"Tantrasangraha\"] = tantrasangraha_jya\n",
    "comparison_table[\"Laghuvivrti\"] = laghuvivrti_jya"
   ]
  },
  {
   "cell_type": "markdown",
   "id": "european-painting",
   "metadata": {},
   "source": [
    "Modern sine for the 24 tabular point - translated to Rsines for the standard circle of radius 21600\n"
   ]
  },
  {
   "cell_type": "code",
   "execution_count": null,
   "id": "shared-contract",
   "metadata": {},
   "outputs": [],
   "source": [
    "comparison_table[\"Modern\"]  = [\",\".join([str(i) for i in to_mst(x)]) for x in (np.sin(np.array(range(1,25))*np.pi/48) * 21600/(2*np.pi))]"
   ]
  },
  {
   "cell_type": "markdown",
   "id": "sophisticated-break",
   "metadata": {},
   "source": [
    "### Display\n",
    "\n",
    "Now, view the comparsion"
   ]
  },
  {
   "cell_type": "code",
   "execution_count": null,
   "id": "bigger-vaccine",
   "metadata": {
    "scrolled": true
   },
   "outputs": [],
   "source": [
    "comparison_table"
   ]
  },
  {
   "cell_type": "code",
   "execution_count": null,
   "id": "manufactured-malawi",
   "metadata": {},
   "outputs": [],
   "source": []
  }
 ],
 "metadata": {
  "kernelspec": {
   "display_name": "Python 3",
   "language": "python",
   "name": "python3"
  },
  "language_info": {
   "codemirror_mode": {
    "name": "ipython",
    "version": 3
   },
   "file_extension": ".py",
   "mimetype": "text/x-python",
   "name": "python",
   "nbconvert_exporter": "python",
   "pygments_lexer": "ipython3",
   "version": "3.7.8"
  }
 },
 "nbformat": 4,
 "nbformat_minor": 5
}
