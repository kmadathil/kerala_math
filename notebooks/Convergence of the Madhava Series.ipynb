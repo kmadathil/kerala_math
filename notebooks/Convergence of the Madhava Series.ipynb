{
 "cells": [
  {
   "cell_type": "markdown",
   "id": "greatest-account",
   "metadata": {},
   "source": [
    "# The Madhava व्यासे वारिधनिहते Series\n",
    "\n",
    "The famous Madhava series for circumference relates the circumference and diameter of a circle using the infinite series: \n",
    "\n",
    " $C = 4d - \\frac{4d}{3} + \\frac{4d}{7} - \\frac{4d}{9} ...$\n",
    " \n",
    "This is equivalent to \n",
    "\n",
    "$\\frac{\\pi}{4} = 1 - \\frac{1}{3} + \\frac{1}{7} - \\frac{1}{9} ...$\n",
    "\n",
    "If you are curious about the history of this series, and how this was derived etc., please see this [series of blogposts on this topic](https://blog.madathil.org/2021/04/01/the-logic-behind-%e0%a4%b5%e0%a5%8d%e0%a4%af%e0%a4%be%e0%a4%b8%e0%a5%87-%e0%a4%b5%e0%a4%be%e0%a4%b0%e0%a4%bf%e0%a4%a7%e0%a4%bf%e0%a4%a8%e0%a4%bf%e0%a4%b9%e0%a4%a4%e0%a5%87/)\n",
    "\n",
    "The kerala_math library can compute this series, with our without correction terms. \n"
   ]
  },
  {
   "cell_type": "markdown",
   "id": "charming-analyst",
   "metadata": {},
   "source": [
    "## Preliminaries"
   ]
  },
  {
   "cell_type": "code",
   "execution_count": 11,
   "id": "eastern-preparation",
   "metadata": {},
   "outputs": [],
   "source": [
    "import kerala_math.series as kms\n",
    "import numpy as np\n",
    "import pandas as pd\n",
    "pd.options.display.float_format = '{:,.12f}'.format"
   ]
  },
  {
   "cell_type": "markdown",
   "id": "comparable-blend",
   "metadata": {},
   "source": [
    "## Our Target value for $\\pi$"
   ]
  },
  {
   "cell_type": "code",
   "execution_count": 12,
   "id": "infinite-picture",
   "metadata": {},
   "outputs": [
    {
     "data": {
      "text/plain": [
       "3.141592653589793"
      ]
     },
     "execution_count": 12,
     "metadata": {},
     "output_type": "execute_result"
    }
   ],
   "source": [
    "from math import pi\n",
    "pi"
   ]
  },
  {
   "cell_type": "markdown",
   "id": "japanese-prize",
   "metadata": {},
   "source": [
    "## Convergence without a correction term\n",
    "\n",
    "Without a correction term, convergence is very slow. Even after a 100 terms, we do not have anything close to usable. However, we note that the error is very close to $\\frac{1}{n}$, where $n$ is the number of terms we chose to compute in the series"
   ]
  },
  {
   "cell_type": "code",
   "execution_count": 13,
   "id": "therapeutic-graph",
   "metadata": {},
   "outputs": [
    {
     "data": {
      "text/html": [
       "<div>\n",
       "<style scoped>\n",
       "    .dataframe tbody tr th:only-of-type {\n",
       "        vertical-align: middle;\n",
       "    }\n",
       "\n",
       "    .dataframe tbody tr th {\n",
       "        vertical-align: top;\n",
       "    }\n",
       "\n",
       "    .dataframe thead th {\n",
       "        text-align: right;\n",
       "    }\n",
       "</style>\n",
       "<table border=\"1\" class=\"dataframe\">\n",
       "  <thead>\n",
       "    <tr style=\"text-align: right;\">\n",
       "      <th></th>\n",
       "      <th>Result</th>\n",
       "      <th>Error</th>\n",
       "    </tr>\n",
       "  </thead>\n",
       "  <tbody>\n",
       "    <tr>\n",
       "      <th>10</th>\n",
       "      <td>3.041839618929</td>\n",
       "      <td>0.099753034660</td>\n",
       "    </tr>\n",
       "    <tr>\n",
       "      <th>20</th>\n",
       "      <td>3.091623806668</td>\n",
       "      <td>0.049968846922</td>\n",
       "    </tr>\n",
       "    <tr>\n",
       "      <th>30</th>\n",
       "      <td>3.108268566699</td>\n",
       "      <td>0.033324086891</td>\n",
       "    </tr>\n",
       "    <tr>\n",
       "      <th>40</th>\n",
       "      <td>3.116596556794</td>\n",
       "      <td>0.024996096796</td>\n",
       "    </tr>\n",
       "    <tr>\n",
       "      <th>50</th>\n",
       "      <td>3.121594652591</td>\n",
       "      <td>0.019998000999</td>\n",
       "    </tr>\n",
       "    <tr>\n",
       "      <th>100</th>\n",
       "      <td>3.131592903559</td>\n",
       "      <td>0.009999750031</td>\n",
       "    </tr>\n",
       "  </tbody>\n",
       "</table>\n",
       "</div>"
      ],
      "text/plain": [
       "            Result          Error\n",
       "10  3.041839618929 0.099753034660\n",
       "20  3.091623806668 0.049968846922\n",
       "30  3.108268566699 0.033324086891\n",
       "40  3.116596556794 0.024996096796\n",
       "50  3.121594652591 0.019998000999\n",
       "100 3.131592903559 0.009999750031"
      ]
     },
     "execution_count": 13,
     "metadata": {},
     "output_type": "execute_result"
    }
   ],
   "source": [
    "terms = [10, 20, 30, 40, 50, 100]\n",
    "series_none = pd.DataFrame(dtype=np.float64, index=terms, columns=[\"Result\", \"Error\"])\n",
    "for t in terms:\n",
    "    series_none.loc[t, \"Result\"] = np.float64(kms.vyase(1, t, samskara=None))   # d=1, t terms, no correction factor\n",
    "series_none.loc[:, \"Error\"] = pi - series_none.loc[:, \"Result\"]    \n",
    "series_none"
   ]
  },
  {
   "cell_type": "markdown",
   "id": "exempt-vocabulary",
   "metadata": {},
   "source": [
    "## Convergence with first order correction\n",
    "\n",
    "The first order correction term is $C_p = \\frac{4d}{2(p+1)} = \\frac{4d}{4n}$ where p is the last denominator, and n is the number of terms, such that $p = 2n-1$\n",
    "\n",
    "This gives reasonable convergence, but needs a lot of terms. After 100, we're still at 6 significant digits after the decimal point"
   ]
  },
  {
   "cell_type": "code",
   "execution_count": 14,
   "id": "emerging-optimization",
   "metadata": {},
   "outputs": [
    {
     "data": {
      "text/html": [
       "<div>\n",
       "<style scoped>\n",
       "    .dataframe tbody tr th:only-of-type {\n",
       "        vertical-align: middle;\n",
       "    }\n",
       "\n",
       "    .dataframe tbody tr th {\n",
       "        vertical-align: top;\n",
       "    }\n",
       "\n",
       "    .dataframe thead th {\n",
       "        text-align: right;\n",
       "    }\n",
       "</style>\n",
       "<table border=\"1\" class=\"dataframe\">\n",
       "  <thead>\n",
       "    <tr style=\"text-align: right;\">\n",
       "      <th></th>\n",
       "      <th>Result</th>\n",
       "      <th>Error</th>\n",
       "    </tr>\n",
       "  </thead>\n",
       "  <tbody>\n",
       "    <tr>\n",
       "      <th>10</th>\n",
       "      <td>3.141839618929</td>\n",
       "      <td>-0.000246965340</td>\n",
       "    </tr>\n",
       "    <tr>\n",
       "      <th>20</th>\n",
       "      <td>3.141623806668</td>\n",
       "      <td>-0.000031153078</td>\n",
       "    </tr>\n",
       "    <tr>\n",
       "      <th>30</th>\n",
       "      <td>3.141601900032</td>\n",
       "      <td>-0.000009246442</td>\n",
       "    </tr>\n",
       "    <tr>\n",
       "      <th>40</th>\n",
       "      <td>3.141596556794</td>\n",
       "      <td>-0.000003903204</td>\n",
       "    </tr>\n",
       "    <tr>\n",
       "      <th>50</th>\n",
       "      <td>3.141594652591</td>\n",
       "      <td>-0.000001999001</td>\n",
       "    </tr>\n",
       "    <tr>\n",
       "      <th>100</th>\n",
       "      <td>3.141592903559</td>\n",
       "      <td>-0.000000249969</td>\n",
       "    </tr>\n",
       "  </tbody>\n",
       "</table>\n",
       "</div>"
      ],
      "text/plain": [
       "            Result           Error\n",
       "10  3.141839618929 -0.000246965340\n",
       "20  3.141623806668 -0.000031153078\n",
       "30  3.141601900032 -0.000009246442\n",
       "40  3.141596556794 -0.000003903204\n",
       "50  3.141594652591 -0.000001999001\n",
       "100 3.141592903559 -0.000000249969"
      ]
     },
     "execution_count": 14,
     "metadata": {},
     "output_type": "execute_result"
    }
   ],
   "source": [
    "series_one = pd.DataFrame(dtype=np.float64, index=terms, columns=[\"Result\", \"Error\"])\n",
    "for t in terms:\n",
    "    series_one.loc[t, \"Result\"] = np.float64(kms.vyase(1, t, samskara=1))   # d=1, t terms, first order correction factor\n",
    "series_one.loc[:, \"Error\"] = pi - series_one.loc[:, \"Result\"]    \n",
    "series_one"
   ]
  },
  {
   "cell_type": "markdown",
   "id": "magnetic-thumb",
   "metadata": {},
   "source": [
    "## Convergence with second order correction\n",
    "\n",
    "Second order correction - the type given in the verse यत्सङ्खययात्र हरणे कृते निवृत्ता हृतिस्तु जामितया ... uses a correction term\n",
    "\n",
    "$C_p = \\frac{\\frac{p+1}{2}}{(p+1)^2+1}$\n",
    "\n",
    "Convergence is much better, as can be seen. This is considered the easiest choice for hand calculation. \n"
   ]
  },
  {
   "cell_type": "code",
   "execution_count": 15,
   "id": "organizational-stamp",
   "metadata": {},
   "outputs": [
    {
     "data": {
      "text/html": [
       "<div>\n",
       "<style scoped>\n",
       "    .dataframe tbody tr th:only-of-type {\n",
       "        vertical-align: middle;\n",
       "    }\n",
       "\n",
       "    .dataframe tbody tr th {\n",
       "        vertical-align: top;\n",
       "    }\n",
       "\n",
       "    .dataframe thead th {\n",
       "        text-align: right;\n",
       "    }\n",
       "</style>\n",
       "<table border=\"1\" class=\"dataframe\">\n",
       "  <thead>\n",
       "    <tr style=\"text-align: right;\">\n",
       "      <th></th>\n",
       "      <th>Result</th>\n",
       "      <th>Error</th>\n",
       "    </tr>\n",
       "  </thead>\n",
       "  <tbody>\n",
       "    <tr>\n",
       "      <th>10</th>\n",
       "      <td>3.141590242371</td>\n",
       "      <td>0.000002411219</td>\n",
       "    </tr>\n",
       "    <tr>\n",
       "      <th>20</th>\n",
       "      <td>3.141592576187</td>\n",
       "      <td>0.000000077403</td>\n",
       "    </tr>\n",
       "    <tr>\n",
       "      <th>30</th>\n",
       "      <td>3.141592643344</td>\n",
       "      <td>0.000000010245</td>\n",
       "    </tr>\n",
       "    <tr>\n",
       "      <th>40</th>\n",
       "      <td>3.141592651154</td>\n",
       "      <td>0.000000002436</td>\n",
       "    </tr>\n",
       "    <tr>\n",
       "      <th>50</th>\n",
       "      <td>3.141592652791</td>\n",
       "      <td>0.000000000799</td>\n",
       "    </tr>\n",
       "    <tr>\n",
       "      <th>100</th>\n",
       "      <td>3.141592653565</td>\n",
       "      <td>0.000000000025</td>\n",
       "    </tr>\n",
       "  </tbody>\n",
       "</table>\n",
       "</div>"
      ],
      "text/plain": [
       "            Result          Error\n",
       "10  3.141590242371 0.000002411219\n",
       "20  3.141592576187 0.000000077403\n",
       "30  3.141592643344 0.000000010245\n",
       "40  3.141592651154 0.000000002436\n",
       "50  3.141592652791 0.000000000799\n",
       "100 3.141592653565 0.000000000025"
      ]
     },
     "execution_count": 15,
     "metadata": {},
     "output_type": "execute_result"
    }
   ],
   "source": [
    "series_two = pd.DataFrame(dtype=np.float64, index=terms, columns=[\"Result\", \"Error\"])\n",
    "for t in terms:\n",
    "    series_two.loc[t, \"Result\"] = np.float64(kms.vyase(1, t, samskara=2))   # d=1, t terms, second order correction factor\n",
    "series_two.loc[:, \"Error\"] = pi - series_two.loc[:, \"Result\"]    \n",
    "series_two"
   ]
  },
  {
   "cell_type": "markdown",
   "id": "manufactured-seventh",
   "metadata": {},
   "source": [
    "## Convergence with third order correction\n",
    "\n",
    "The third order correction term $C_p = \\frac{n^2+1}{4n^3+5n}$ is given separately in Yuktibhasha .\n",
    "\n",
    "This leads to even quicker convergence, 10 significant decimal digits of accuracy after 30 terms. "
   ]
  },
  {
   "cell_type": "code",
   "execution_count": 16,
   "id": "auburn-cholesterol",
   "metadata": {},
   "outputs": [
    {
     "data": {
      "text/html": [
       "<div>\n",
       "<style scoped>\n",
       "    .dataframe tbody tr th:only-of-type {\n",
       "        vertical-align: middle;\n",
       "    }\n",
       "\n",
       "    .dataframe tbody tr th {\n",
       "        vertical-align: top;\n",
       "    }\n",
       "\n",
       "    .dataframe thead th {\n",
       "        text-align: right;\n",
       "    }\n",
       "</style>\n",
       "<table border=\"1\" class=\"dataframe\">\n",
       "  <thead>\n",
       "    <tr style=\"text-align: right;\">\n",
       "      <th></th>\n",
       "      <th>Result</th>\n",
       "      <th>Error</th>\n",
       "    </tr>\n",
       "  </thead>\n",
       "  <tbody>\n",
       "    <tr>\n",
       "      <th>10</th>\n",
       "      <td>3.141592705349</td>\n",
       "      <td>-0.000000051759</td>\n",
       "    </tr>\n",
       "    <tr>\n",
       "      <th>20</th>\n",
       "      <td>3.141592654020</td>\n",
       "      <td>-0.000000000430</td>\n",
       "    </tr>\n",
       "    <tr>\n",
       "      <th>30</th>\n",
       "      <td>3.141592653615</td>\n",
       "      <td>-0.000000000025</td>\n",
       "    </tr>\n",
       "    <tr>\n",
       "      <th>40</th>\n",
       "      <td>3.141592653593</td>\n",
       "      <td>-0.000000000003</td>\n",
       "    </tr>\n",
       "    <tr>\n",
       "      <th>50</th>\n",
       "      <td>3.141592653591</td>\n",
       "      <td>-0.000000000001</td>\n",
       "    </tr>\n",
       "    <tr>\n",
       "      <th>100</th>\n",
       "      <td>3.141592653590</td>\n",
       "      <td>-0.000000000000</td>\n",
       "    </tr>\n",
       "  </tbody>\n",
       "</table>\n",
       "</div>"
      ],
      "text/plain": [
       "            Result           Error\n",
       "10  3.141592705349 -0.000000051759\n",
       "20  3.141592654020 -0.000000000430\n",
       "30  3.141592653615 -0.000000000025\n",
       "40  3.141592653593 -0.000000000003\n",
       "50  3.141592653591 -0.000000000001\n",
       "100 3.141592653590 -0.000000000000"
      ]
     },
     "execution_count": 16,
     "metadata": {},
     "output_type": "execute_result"
    }
   ],
   "source": [
    "series_three = pd.DataFrame(dtype=np.float64, index=terms, columns=[\"Result\", \"Error\"])\n",
    "for t in terms:\n",
    "    series_three.loc[t, \"Result\"] = np.float64(kms.vyase(1, t, samskara=3))   # d=1, t terms, third order correction factor\n",
    "series_three.loc[:, \"Error\"] = pi - series_three.loc[:, \"Result\"]    \n",
    "series_three"
   ]
  },
  {
   "cell_type": "markdown",
   "id": "controversial-budget",
   "metadata": {},
   "source": [
    "### Summing 28 terms\n",
    "\n",
    "Summing the Madhava series to 28 terms and adding the third order correction factor is considered to have been used to derive the कटपयादि encoded expression चण्डांशुचन्द्राधमकुम्भिपालैः = 31415926536 for the circumference of a circle of diameter 10000000000, equivalent to $\\pi$ to 10 decimal digits of accuracy. "
   ]
  },
  {
   "cell_type": "code",
   "execution_count": null,
   "id": "heated-instrument",
   "metadata": {},
   "outputs": [],
   "source": [
    "cc = np.float64(kms.vyase(1, 28, samskara=3))\n",
    "cc"
   ]
  },
  {
   "cell_type": "markdown",
   "id": "novel-subscription",
   "metadata": {},
   "source": [
    "## Comparing the results so far\n",
    "\n",
    "zoom into the graph to see the results in further detail"
   ]
  },
  {
   "cell_type": "code",
   "execution_count": null,
   "id": "changing-secret",
   "metadata": {},
   "outputs": [],
   "source": [
    "%matplotlib notebook\n",
    "results = pd.concat([series_none[\"Result\"], series_one[\"Result\"], series_two[\"Result\"], series_three[\"Result\"]], axis=1, keys=[\"none\",\"1st order\",\"2nd order\",\"3rd order\"])\n",
    "results.plot(legend=True)"
   ]
  },
  {
   "cell_type": "markdown",
   "id": "bizarre-motorcycle",
   "metadata": {},
   "source": [
    "## Alternate Series - Incorporating corrections into the main series\n",
    "\n",
    "These are alternate series given in Yuktibhasha that are equivalent to using व्यासे वारिधिनिहते with first and second order corrections respectively.\n",
    "\n",
    "### Alternate series - vyasad\n",
    "\n",
    "व्यासाद् वारिधिनिहतात् पृथगाप्तं त्र्याद्ययुग्विमूलघनैः\n",
    "त्रिघ्नव्यासे स्वमृणं क्रमशः कृत्वा परिधिरानेयः ||  \n",
    "\n",
    "This is equivalent to using the first order correction. \n",
    "\n",
    "$C = 3D + 4D(\\frac{1}{3^3-3} - \\frac{1}{5^3-5} + \\frac{1}{7^3-7} ….)$\n",
    "\n",
    "We expect the results to be similar to the first order correction - and that can be seen as true.\n"
   ]
  },
  {
   "cell_type": "code",
   "execution_count": null,
   "id": "greenhouse-history",
   "metadata": {},
   "outputs": [],
   "source": [
    "series_onea = pd.DataFrame(dtype=np.float64, index=terms, columns=[\"Result\", \"Error\"])\n",
    "for t in terms:\n",
    "    series_onea.loc[t, \"Result\"] = np.float64(kms.vyasad(1, t))   # vyasad for t terms\n",
    "series_onea.loc[:, \"Error\"] = pi - series_onea.loc[:, \"Result\"]    \n",
    "series_onea"
   ]
  },
  {
   "cell_type": "markdown",
   "id": "intermediate-spotlight",
   "metadata": {},
   "source": [
    "### Alternate Series - samapanchahatayoh - Second order\n",
    "\n",
    "Next, we look at the alternate series with second order correction incorporated,\n",
    "\n",
    "    समपञ्चाहतयो या रुपाद्ययुजां चतुर्घ्नमूलयुताः \n",
    "    ताभिः षोडशगुणितात् पृथगाहृतेषु विषमयुतेः \n",
    "    समफलयुतिमपहाय स्यादिष्टव्याससंभवः परिधिः \n",
    "\n",
    "Equivalent to \n",
    "$C = 16D(\\frac{1}{1^5+4.1} - \\frac{1}{3^5+4.3} + \\frac{1}{5^5+4.5} ….)$\n",
    "\n",
    "Again, the convergence can be seen to be similar to using the original series with the second order correction term. \n"
   ]
  },
  {
   "cell_type": "code",
   "execution_count": null,
   "id": "upset-bulgarian",
   "metadata": {},
   "outputs": [],
   "source": [
    "series_twoa = pd.DataFrame(dtype=np.float64, index=terms, columns=[\"Result\", \"Error\"])\n",
    "for t in terms:\n",
    "    series_twoa.loc[t, \"Result\"] = np.float64(kms.samapanchahatayoh(1, t))   # vyasad for t terms\n",
    "series_twoa.loc[:, \"Error\"] = pi - series_twoa.loc[:, \"Result\"]    \n",
    "series_twoa"
   ]
  },
  {
   "cell_type": "code",
   "execution_count": null,
   "id": "outer-mailman",
   "metadata": {},
   "outputs": [],
   "source": []
  }
 ],
 "metadata": {
  "kernelspec": {
   "display_name": "Python 3",
   "language": "python",
   "name": "python3"
  },
  "language_info": {
   "codemirror_mode": {
    "name": "ipython",
    "version": 3
   },
   "file_extension": ".py",
   "mimetype": "text/x-python",
   "name": "python",
   "nbconvert_exporter": "python",
   "pygments_lexer": "ipython3",
   "version": "3.7.8"
  }
 },
 "nbformat": 4,
 "nbformat_minor": 5
}
