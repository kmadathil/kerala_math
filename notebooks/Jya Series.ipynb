{
 "cells": [
  {
   "cell_type": "code",
   "execution_count": null,
   "id": "robust-denver",
   "metadata": {},
   "outputs": [],
   "source": [
    "!pip install git+https://github.com/kmadathil/kerala_math.git"
   ]
  },
  {
   "cell_type": "markdown",
   "id": "manual-glance",
   "metadata": {},
   "source": [
    "# Comparison of Jya Series \n",
    "\n",
    "We compare the output of the two JyA series of Madhava with the tabular jya of Madhava and modern values. \n",
    "\n",
    "Details for all of these can be found in [this article](https://blog.madathil.org/2021/06/16/a-better-bowstring-the-madhava-jya-series/).\n",
    "\n",
    "One can see that shrestham is accurate to the thirds, while nihatya is accurate to the fourths compared to modern values. This is remarkably accurate. \n"
   ]
  },
  {
   "cell_type": "code",
   "execution_count": null,
   "id": "comparable-asset",
   "metadata": {},
   "outputs": [],
   "source": [
    "import numpy as np\n",
    "import pandas as pd\n",
    "from kerala_math.jyatable.madhava import pindajya as m_jya\n",
    "from kerala_math.jyatable import MST\n",
    "import kerala_math.series.jya as kmj"
   ]
  },
  {
   "cell_type": "code",
   "execution_count": null,
   "id": "brave-harbor",
   "metadata": {
    "scrolled": true
   },
   "outputs": [],
   "source": [
    "comparison_table = pd.DataFrame([], index=range(1,25), columns=[\"Shrestham\", \"Vidvan\", \"Nihatya\", \"Modern\"])\n",
    "comparison_table[\"Shrestham\"] = [m_jya(i)  for i in range(24)]\n",
    "comparison_table[\"Vidvan\"] = [kmj.jya_vidvan(225*(i+1), mst_out=True) for i in range(24)]\n",
    "comparison_table[\"Nihatya\"] = [kmj.jya_nihatya(225*(i+1),7, mst_out=True) for i in range(24)]\n",
    "comparison_table[\"Modern\"]  = [MST(x) for x in (np.sin(np.array(range(1,25))*np.pi/48) * 21600/(2*np.pi))]\n",
    "comparison_table"
   ]
  },
  {
   "cell_type": "markdown",
   "id": "qualified-assist",
   "metadata": {},
   "source": [
    "# Comparison of Śara series\n",
    "\n",
    "Comparing the versine (Śara) series, we find again that the Nihatya series is remarkably accurate to fourths, while stena approaches about half of that. \n",
    "\n",
    "Details these can be found as well in [this article](https://blog.madathil.org/2021/06/16/a-better-bowstring-the-madhava-jya-series/).\n"
   ]
  },
  {
   "cell_type": "code",
   "execution_count": null,
   "id": "right-sympathy",
   "metadata": {},
   "outputs": [],
   "source": [
    "sara_table = pd.DataFrame([], index=range(1,25), columns=[\"Stena\", \"Nihatya\", \"Modern\"])\n",
    "sara_table[\"Stena\"] = [kmj.sara_stena(225*(i+1), mst_out=True) for i in range(24)]\n",
    "sara_table[\"Nihatya\"] = [kmj.sara_nihatya(225*(i+1),7, mst_out=True) for i in range(24)]\n",
    "sara_table[\"Modern\"]  = [MST(x) for x in (1-(np.cos(np.array(range(1,25))*np.pi/48))) * 21600/(2*np.pi)]\n",
    "sara_table"
   ]
  },
  {
   "cell_type": "code",
   "execution_count": null,
   "id": "stylish-registration",
   "metadata": {},
   "outputs": [],
   "source": []
  }
 ],
 "metadata": {
  "kernelspec": {
   "display_name": "Python 3",
   "language": "python",
   "name": "python3"
  },
  "language_info": {
   "codemirror_mode": {
    "name": "ipython",
    "version": 3
   },
   "file_extension": ".py",
   "mimetype": "text/x-python",
   "name": "python",
   "nbconvert_exporter": "python",
   "pygments_lexer": "ipython3",
   "version": "3.7.8"
  }
 },
 "nbformat": 4,
 "nbformat_minor": 5
}
